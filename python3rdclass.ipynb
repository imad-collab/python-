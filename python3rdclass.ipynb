{
  "cells": [
    {
      "cell_type": "markdown",
      "metadata": {
        "id": "view-in-github",
        "colab_type": "text"
      },
      "source": [
        "<a href=\"https://colab.research.google.com/github/imad-collab/imad/blob/main/python3rdclass.ipynb\" target=\"_parent\"><img src=\"https://colab.research.google.com/assets/colab-badge.svg\" alt=\"Open In Colab\"/></a>"
      ]
    },
    {
      "cell_type": "markdown",
      "metadata": {
        "id": "EU8NIMxbMTs7"
      },
      "source": [
        "## Set Theory"
      ]
    },
    {
      "cell_type": "code",
      "execution_count": null,
      "metadata": {
        "id": "VtpIxY4DMTs_"
      },
      "outputs": [],
      "source": [
        "## Union\n",
        "s1 = {1,2,3}\n",
        "s2 = {3,4,5}"
      ]
    },
    {
      "cell_type": "code",
      "execution_count": null,
      "metadata": {
        "id": "mJMq-RjtMTtB"
      },
      "outputs": [],
      "source": [
        "s1 | s2"
      ]
    },
    {
      "cell_type": "code",
      "execution_count": null,
      "metadata": {
        "id": "uBtSCXjwMTtB"
      },
      "outputs": [],
      "source": [
        "s1.union(s2)"
      ]
    },
    {
      "cell_type": "code",
      "execution_count": null,
      "metadata": {
        "id": "yLWMiQeSMTtC"
      },
      "outputs": [],
      "source": [
        "## Intersection\n",
        "s1 = {1,2,3}\n",
        "s2 = {3,4,5}"
      ]
    },
    {
      "cell_type": "code",
      "execution_count": null,
      "metadata": {
        "id": "yjOUyu3vMTtC"
      },
      "outputs": [],
      "source": [
        "s1 & s2"
      ]
    },
    {
      "cell_type": "code",
      "execution_count": null,
      "metadata": {
        "id": "-a2_ChuwMTtD"
      },
      "outputs": [],
      "source": [
        "s1.intersection(s2)"
      ]
    },
    {
      "cell_type": "code",
      "execution_count": null,
      "metadata": {
        "id": "62_saCQqMTtD"
      },
      "outputs": [],
      "source": [
        "## Difference\n",
        "s1 = {1,2,3,4,5,6}\n",
        "s2 = {5,6,7}"
      ]
    },
    {
      "cell_type": "code",
      "execution_count": null,
      "metadata": {
        "id": "G0Lz8f-aMTtE"
      },
      "outputs": [],
      "source": [
        "s1-s2"
      ]
    },
    {
      "cell_type": "code",
      "execution_count": null,
      "metadata": {
        "id": "wZdWlJrCMTtF"
      },
      "outputs": [],
      "source": [
        "s1.difference(s2)"
      ]
    },
    {
      "cell_type": "code",
      "execution_count": null,
      "metadata": {
        "id": "8ln5ye36MTtF"
      },
      "outputs": [],
      "source": [
        "s2-s1"
      ]
    },
    {
      "cell_type": "code",
      "execution_count": null,
      "metadata": {
        "id": "h80k0eVAMTtG"
      },
      "outputs": [],
      "source": [
        "## Symmetric difference\n",
        "s1={1,2,3,4,5}\n",
        "s2={4,5,6,7,8}"
      ]
    },
    {
      "cell_type": "code",
      "execution_count": null,
      "metadata": {
        "id": "Iox_pkKXMTtG"
      },
      "outputs": [],
      "source": [
        "s1.symmetric_difference(s2)"
      ]
    },
    {
      "cell_type": "code",
      "execution_count": null,
      "metadata": {
        "id": "v9IiyCPJMTtG"
      },
      "outputs": [],
      "source": [
        "s1 = {1,2,3,4,5}\n",
        "s2 = {1,2,3}"
      ]
    },
    {
      "cell_type": "code",
      "execution_count": null,
      "metadata": {
        "id": "nA7h5YrYMTtH"
      },
      "outputs": [],
      "source": [
        "s2.issubset(s1)"
      ]
    },
    {
      "cell_type": "markdown",
      "metadata": {
        "id": "3j8SWjWlMTtH"
      },
      "source": [
        "## Regular expressions"
      ]
    },
    {
      "cell_type": "code",
      "execution_count": null,
      "metadata": {
        "id": "mMCx2IfwMTtH"
      },
      "outputs": [],
      "source": [
        "import re"
      ]
    },
    {
      "cell_type": "code",
      "execution_count": null,
      "metadata": {
        "id": "gZLlbK19MTtI"
      },
      "outputs": [],
      "source": [
        "str1 = \"Welcome to python session\""
      ]
    },
    {
      "cell_type": "code",
      "execution_count": null,
      "metadata": {
        "id": "na-dLoA4MTtI"
      },
      "outputs": [],
      "source": [
        "# Findall is used to return the no.of occurance of matched string in the given string\n",
        "x = re.findall('e',str1)\n",
        "x"
      ]
    },
    {
      "cell_type": "code",
      "execution_count": null,
      "metadata": {
        "id": "EpsXiYkLMTtI"
      },
      "outputs": [],
      "source": [
        "y=re.findall('Welcome',str1)\n",
        "y"
      ]
    },
    {
      "cell_type": "code",
      "execution_count": null,
      "metadata": {
        "id": "y1C5caB-MTtJ"
      },
      "outputs": [],
      "source": [
        "y=re.findall('abc',str1)\n",
        "y"
      ]
    },
    {
      "cell_type": "code",
      "execution_count": null,
      "metadata": {
        "id": "9OPxe70qMTtJ"
      },
      "outputs": [],
      "source": [
        "# Search() method is used to display the matched string\n",
        "x=re.search('e',str1)\n",
        "x"
      ]
    },
    {
      "cell_type": "code",
      "execution_count": null,
      "metadata": {
        "id": "kSN-tLtaMTtJ"
      },
      "outputs": [],
      "source": [
        "x=re.search('python',str1)\n",
        "x"
      ]
    },
    {
      "cell_type": "code",
      "execution_count": null,
      "metadata": {
        "id": "ARv2fHpCMTtJ"
      },
      "outputs": [],
      "source": [
        "x=re.search(\"abc\",str1)\n",
        "x"
      ]
    },
    {
      "cell_type": "code",
      "execution_count": null,
      "metadata": {
        "id": "6roZ9qhHMTtK"
      },
      "outputs": [],
      "source": [
        "str1='Hello world'"
      ]
    },
    {
      "cell_type": "code",
      "execution_count": null,
      "metadata": {
        "id": "s5wjSR8QMTtK"
      },
      "outputs": [],
      "source": [
        "z=re.split(\" \",str1)\n",
        "z"
      ]
    },
    {
      "cell_type": "code",
      "execution_count": null,
      "metadata": {
        "id": "vxrnkPpmMTtK"
      },
      "outputs": [],
      "source": [
        "z=re.split(\"\",str1)\n",
        "z"
      ]
    },
    {
      "cell_type": "code",
      "execution_count": null,
      "metadata": {
        "id": "01576vM6MTtK"
      },
      "outputs": [],
      "source": [
        "str2='Hi Python Hello Analytics'"
      ]
    },
    {
      "cell_type": "code",
      "execution_count": null,
      "metadata": {
        "id": "DhyVI3YtMTtL"
      },
      "outputs": [],
      "source": [
        "x=re.sub('Python','Analytics',str2)"
      ]
    },
    {
      "cell_type": "code",
      "execution_count": null,
      "metadata": {
        "id": "ZXDL8cslMTtL"
      },
      "outputs": [],
      "source": [
        "x"
      ]
    },
    {
      "cell_type": "code",
      "execution_count": null,
      "metadata": {
        "id": "q4GdY9kuMTtL"
      },
      "outputs": [],
      "source": [
        "x=re.match('Hi',str2)\n",
        "x"
      ]
    },
    {
      "cell_type": "code",
      "execution_count": null,
      "metadata": {
        "id": "CtZs5-C0MTtL"
      },
      "outputs": [],
      "source": [
        "x=re.match(\"Hello\",str2)\n",
        "x"
      ]
    },
    {
      "cell_type": "markdown",
      "metadata": {
        "id": "fsMrtH0jMTtL"
      },
      "source": [
        "## Assigning values"
      ]
    },
    {
      "cell_type": "code",
      "execution_count": null,
      "metadata": {
        "id": "D7HHQCT-MTtL"
      },
      "outputs": [],
      "source": [
        "# '=' is used for assignment\n",
        "a,b,c = 1,'xyz',5.5\n",
        "a,b,c"
      ]
    },
    {
      "cell_type": "code",
      "execution_count": null,
      "metadata": {
        "id": "eAxgWeLbMTtM"
      },
      "outputs": [],
      "source": [
        "## Multiple strings\n",
        "a_str = 'This is a single line string'\n",
        "a_str"
      ]
    },
    {
      "cell_type": "code",
      "execution_count": null,
      "metadata": {
        "id": "WsfHWLOHMTtM"
      },
      "outputs": [],
      "source": [
        "a_str1 = '''This is\n",
        "a multiline\n",
        "string'''\n",
        "a_str1"
      ]
    },
    {
      "cell_type": "code",
      "execution_count": null,
      "metadata": {
        "id": "6MLlc4cLMTtM"
      },
      "outputs": [],
      "source": [
        "print(a_str1)"
      ]
    },
    {
      "cell_type": "markdown",
      "metadata": {
        "id": "5fHASFHvMTtM"
      },
      "source": [
        "## Getting input from users"
      ]
    },
    {
      "cell_type": "code",
      "execution_count": null,
      "metadata": {
        "id": "vS1X5NAiMTtM"
      },
      "outputs": [],
      "source": [
        "name = input('Enter your name:')\n",
        "name"
      ]
    },
    {
      "cell_type": "code",
      "execution_count": null,
      "metadata": {
        "id": "wEoJMM0gMTtN"
      },
      "outputs": [],
      "source": [
        "age = input('Enter your age:')\n",
        "age"
      ]
    },
    {
      "cell_type": "code",
      "execution_count": null,
      "metadata": {
        "id": "10YPjR06MTtN"
      },
      "outputs": [],
      "source": [
        "age = int(input('Enter your age:'))\n",
        "age"
      ]
    },
    {
      "cell_type": "code",
      "execution_count": null,
      "metadata": {
        "id": "jmmGhFyXMTtN"
      },
      "outputs": [],
      "source": [
        "type(age)"
      ]
    },
    {
      "cell_type": "markdown",
      "metadata": {
        "id": "Ir8IzrrVMTtN"
      },
      "source": [
        "## Print statement in python"
      ]
    },
    {
      "cell_type": "code",
      "execution_count": null,
      "metadata": {
        "id": "oTyIgkUqMTtN"
      },
      "outputs": [],
      "source": [
        "print('Hello world')"
      ]
    },
    {
      "cell_type": "code",
      "execution_count": null,
      "metadata": {
        "id": "EuVxs5KTMTtO"
      },
      "outputs": [],
      "source": [
        "name1 = input('Enter your name:')\n",
        "name1"
      ]
    },
    {
      "cell_type": "code",
      "execution_count": null,
      "metadata": {
        "id": "K6qWGgvZMTtO"
      },
      "outputs": [],
      "source": [
        "print('Hello',name1)"
      ]
    },
    {
      "cell_type": "code",
      "execution_count": null,
      "metadata": {
        "id": "JbEk4y_fMTtO"
      },
      "outputs": [],
      "source": [
        "print(name,'is',age,'years old')"
      ]
    },
    {
      "cell_type": "code",
      "execution_count": null,
      "metadata": {
        "id": "Ikhf-AUuMTtO"
      },
      "outputs": [],
      "source": [
        "## Starndard way of using print statement\n",
        "print('{0} is {1} years old'.format(name,age)) "
      ]
    },
    {
      "cell_type": "code",
      "execution_count": null,
      "metadata": {
        "id": "1wmS0b1-MTtO"
      },
      "outputs": [],
      "source": [
        "print(f'{name} is {age} years old') # f-string method"
      ]
    },
    {
      "cell_type": "markdown",
      "metadata": {
        "id": "fq-gtp20MTtO"
      },
      "source": [
        "## Identity Operators"
      ]
    },
    {
      "cell_type": "code",
      "execution_count": null,
      "metadata": {
        "id": "cH7mOG5TMTtP"
      },
      "outputs": [],
      "source": [
        "\"i\" == \"Hi\""
      ]
    },
    {
      "cell_type": "code",
      "execution_count": null,
      "metadata": {
        "id": "mkQj0Ui2MTtP"
      },
      "outputs": [],
      "source": [
        "1 == 1"
      ]
    },
    {
      "cell_type": "code",
      "execution_count": null,
      "metadata": {
        "id": "yOz1Yn8aMTtP"
      },
      "outputs": [],
      "source": [
        "2 == 1"
      ]
    },
    {
      "cell_type": "code",
      "execution_count": null,
      "metadata": {
        "id": "_N7X8nwgMTtP"
      },
      "outputs": [],
      "source": [
        "\"hello\" == \"Hello\""
      ]
    },
    {
      "cell_type": "code",
      "execution_count": null,
      "metadata": {
        "id": "CBYbeej3MTtP"
      },
      "outputs": [],
      "source": [
        "1 == 0"
      ]
    },
    {
      "cell_type": "code",
      "execution_count": null,
      "metadata": {
        "id": "cf5Lq7IZMTtP"
      },
      "outputs": [],
      "source": [
        "1 != 0"
      ]
    },
    {
      "cell_type": "code",
      "execution_count": null,
      "metadata": {
        "id": "PveOIcXzMTtP"
      },
      "outputs": [],
      "source": [
        "\"hi hello\" != \"hello hi\""
      ]
    },
    {
      "cell_type": "code",
      "execution_count": null,
      "metadata": {
        "id": "UXIW-rTdMTtQ"
      },
      "outputs": [],
      "source": [
        "a = 10\n",
        "b = 10\n"
      ]
    },
    {
      "cell_type": "code",
      "execution_count": null,
      "metadata": {
        "id": "2wd-EHIKMTtQ"
      },
      "outputs": [],
      "source": [
        "a is b"
      ]
    },
    {
      "cell_type": "code",
      "execution_count": null,
      "metadata": {
        "id": "D7nS4VSIMTtQ"
      },
      "outputs": [],
      "source": [
        "a = 39999\n",
        "b = 39999\n"
      ]
    },
    {
      "cell_type": "code",
      "execution_count": null,
      "metadata": {
        "id": "mSQomLkyMTtQ"
      },
      "outputs": [],
      "source": [
        "a is b"
      ]
    },
    {
      "cell_type": "code",
      "execution_count": null,
      "metadata": {
        "id": "831TTkjBMTtR"
      },
      "outputs": [],
      "source": [
        "a = 256\n",
        "b = 256\n",
        "a is b"
      ]
    },
    {
      "cell_type": "code",
      "execution_count": null,
      "metadata": {
        "id": "QFrNbXNeMTtR"
      },
      "outputs": [],
      "source": [
        "a = 'hello'\n",
        "b = 'hello'\n",
        "a is b"
      ]
    },
    {
      "cell_type": "code",
      "execution_count": null,
      "metadata": {
        "id": "XrLnQwppMTtR"
      },
      "outputs": [],
      "source": [
        "a = 'Welcome to python'\n",
        "b = 'Welcome to python'"
      ]
    },
    {
      "cell_type": "code",
      "execution_count": null,
      "metadata": {
        "id": "HrnHlgc5MTtR"
      },
      "outputs": [],
      "source": [
        "a is b"
      ]
    },
    {
      "cell_type": "markdown",
      "metadata": {
        "id": "O7VTpz4bMTtR"
      },
      "source": [
        "## Conditional statements"
      ]
    },
    {
      "cell_type": "code",
      "execution_count": null,
      "metadata": {
        "id": "jSpO87iyMTtR"
      },
      "outputs": [],
      "source": [
        "# If\n",
        "num = 5\n",
        "if num > 0:\n",
        "    print(num, \"is a positive number.\") \n",
        "print(\"This is always printed.\")"
      ]
    },
    {
      "cell_type": "code",
      "execution_count": null,
      "metadata": {
        "id": "tkSOd_YDMTtS"
      },
      "outputs": [],
      "source": [
        "# If else:\n",
        "num = -5\n",
        "\n",
        "if (num > 0):\n",
        "    print(\"Positive\")\n",
        "else:\n",
        "    print(\"Negative number\")"
      ]
    },
    {
      "cell_type": "code",
      "execution_count": null,
      "metadata": {
        "id": "QGqlU_3vMTtS"
      },
      "outputs": [],
      "source": [
        "## Define a function with conditional statement\n",
        "\n",
        "def max_num(num1,num2,num3):\n",
        "\n",
        "    if num1 >= num2 and num1 >= num3:\n",
        "\n",
        "        return num1\n",
        "\n",
        "    elif num2 >= num1 and num2 >= num3:\n",
        "        return num2\n",
        "\n",
        "    else:\n",
        "        return num3\n",
        "\n",
        "print (max_num(400,60,1150))\n"
      ]
    },
    {
      "cell_type": "code",
      "execution_count": null,
      "metadata": {
        "id": "FFQIM7wSMTtS"
      },
      "outputs": [],
      "source": [
        "# Nested If\n",
        "num = int(input(\"Enter a number: \"))\n",
        "\n",
        "\n",
        "if num >= 0:\n",
        "    if num == 0:\n",
        "        print(\"Zero\")\n",
        "    else:\n",
        "        print(\"Positive number\")\n",
        "else:\n",
        "    print(\"Negative number\")"
      ]
    },
    {
      "cell_type": "markdown",
      "metadata": {
        "id": "g7M0F3xIMTtS"
      },
      "source": [
        "##  For loop"
      ]
    },
    {
      "cell_type": "code",
      "execution_count": null,
      "metadata": {
        "id": "yoJ1LcofMTtT"
      },
      "outputs": [],
      "source": [
        "# for Loop\n",
        "# for each item in sequence , last item reached , no - body of loop , yes , exit loop\n",
        "\n",
        "\n",
        "#Ex:1\n",
        "\n",
        "snacks = ['pizza','burger','shawarma','franky']\n",
        "\n",
        "for x in snacks:\n",
        "    print(\"current snack: \", x)\n",
        "print(\"Good day!\")\n"
      ]
    },
    {
      "cell_type": "code",
      "execution_count": null,
      "metadata": {
        "id": "Qkk0TOb2MTtT"
      },
      "outputs": [],
      "source": [
        "#Ex:2\n",
        "\n",
        "num = int(input(\"number: \"))\n",
        "factorial =1\n",
        "\n",
        "if num < 0:\n",
        "    print(\"must be positive\")\n",
        "elif num == 0:\n",
        "    print(\"factorial = 1\")\n",
        "else:\n",
        "    for i in range(1,num+1):\n",
        "        factorial = factorial * i\n",
        "    print(\"factorial =  \" ,factorial)"
      ]
    },
    {
      "cell_type": "code",
      "execution_count": null,
      "metadata": {
        "id": "WTlvVEGtMTtT"
      },
      "outputs": [],
      "source": [
        "#Nested for loop\n",
        "\n",
        "for i in range(0,3):\n",
        "    for j in range(0,3):\n",
        "        print(i,j)\n"
      ]
    },
    {
      "cell_type": "code",
      "execution_count": null,
      "metadata": {
        "id": "iVztU6aIMTtT"
      },
      "outputs": [],
      "source": [
        "# For loop with else:\n",
        "digits = [0, 1, 5]\n",
        "\n",
        "for i in digits:\n",
        "    print(i)\n",
        "else:\n",
        "    print(\"No items left.\")"
      ]
    },
    {
      "cell_type": "markdown",
      "metadata": {
        "id": "cniBE-qFMTtU"
      },
      "source": [
        "## While loop"
      ]
    },
    {
      "cell_type": "code",
      "execution_count": null,
      "metadata": {
        "id": "Hv3uQzDxMTtU"
      },
      "outputs": [],
      "source": [
        "# initialize sum and counter\n",
        "n = 4\n",
        "sum = 0\n",
        "i = 1\n",
        "\n",
        "while i <= n:\n",
        "    sum = sum + i\n",
        "    i = i+1    # update counter\n",
        "\n",
        "# print the sum\n",
        "print(\"The sum is\", sum)\n"
      ]
    },
    {
      "cell_type": "code",
      "execution_count": null,
      "metadata": {
        "id": "vKLOr1lnMTtU"
      },
      "outputs": [],
      "source": [
        "# While loop with else\n",
        "# Example to illustrate\n",
        "# the use of else statement\n",
        "# with the while loop\n",
        "\n",
        "counter = 0\n",
        "\n",
        "while counter < 3:\n",
        "    print(\"Inside loop\")\n",
        "    counter = counter + 1\n",
        "else:\n",
        "    print(\"Inside else\")\n"
      ]
    },
    {
      "cell_type": "code",
      "execution_count": null,
      "metadata": {
        "id": "sQqSFeGQMTtU"
      },
      "outputs": [],
      "source": [
        "#Ex: 1\n",
        "\n",
        "count = 0\n",
        "\n",
        "while count < 20:\n",
        "    print(\"Digit: \", count)\n",
        "    count = count + 1\n",
        "\n",
        "print(\"Thank you\")"
      ]
    },
    {
      "cell_type": "markdown",
      "metadata": {
        "id": "dUxbLL_UMTtU"
      },
      "source": [
        "## Functions"
      ]
    },
    {
      "cell_type": "code",
      "execution_count": null,
      "metadata": {
        "id": "R1JQdx0zMTtV"
      },
      "outputs": [],
      "source": [
        "def myfunc():\n",
        "    print('Hello')"
      ]
    },
    {
      "cell_type": "code",
      "execution_count": null,
      "metadata": {
        "id": "O1WttuMgMTtV"
      },
      "outputs": [],
      "source": [
        "myfunc()"
      ]
    },
    {
      "cell_type": "code",
      "execution_count": null,
      "metadata": {
        "id": "QNODm1HhMTtV"
      },
      "outputs": [],
      "source": [
        "def myfunc(name):\n",
        "    print('Hello',name)"
      ]
    },
    {
      "cell_type": "code",
      "execution_count": null,
      "metadata": {
        "id": "fTJ3HRS5MTtV"
      },
      "outputs": [],
      "source": [
        "myfunc('hi')"
      ]
    },
    {
      "cell_type": "code",
      "execution_count": null,
      "metadata": {
        "id": "tcFmflyhMTtV"
      },
      "outputs": [],
      "source": [
        "def squares(x):\n",
        "    return x**2"
      ]
    },
    {
      "cell_type": "code",
      "execution_count": null,
      "metadata": {
        "id": "_qRhJTkgMTtV"
      },
      "outputs": [],
      "source": [
        "squares(5)"
      ]
    },
    {
      "cell_type": "markdown",
      "metadata": {
        "id": "3Yi5dw6OMTtV"
      },
      "source": [
        "## Lambda function"
      ]
    },
    {
      "cell_type": "code",
      "execution_count": null,
      "metadata": {
        "id": "q11n5JNaMTtW"
      },
      "outputs": [],
      "source": [
        "fn = lambda x : x**2"
      ]
    },
    {
      "cell_type": "code",
      "execution_count": null,
      "metadata": {
        "id": "RJmE83UhMTtW"
      },
      "outputs": [],
      "source": [
        "fn(4)"
      ]
    },
    {
      "cell_type": "code",
      "execution_count": null,
      "metadata": {
        "id": "hk3Pq__TMTtW"
      },
      "outputs": [],
      "source": [
        "type(fn)"
      ]
    },
    {
      "cell_type": "code",
      "execution_count": null,
      "metadata": {
        "id": "xvOFwVgUMTtW"
      },
      "outputs": [],
      "source": [
        "lst = ['c++','c','python','java','mysql123']\n",
        "lst"
      ]
    },
    {
      "cell_type": "code",
      "execution_count": null,
      "metadata": {
        "id": "p9srZbVJMTtW"
      },
      "outputs": [],
      "source": [
        "lst.sort(key = lambda x: len(x))"
      ]
    },
    {
      "cell_type": "code",
      "execution_count": null,
      "metadata": {
        "id": "8kHTtfxoMTtW"
      },
      "outputs": [],
      "source": [
        "lst"
      ]
    },
    {
      "cell_type": "code",
      "source": [],
      "metadata": {
        "id": "5ponTos3RKUF"
      },
      "execution_count": null,
      "outputs": []
    },
    {
      "cell_type": "code",
      "source": [],
      "metadata": {
        "id": "FoRVtDUMRKSO"
      },
      "execution_count": null,
      "outputs": []
    },
    {
      "cell_type": "code",
      "source": [],
      "metadata": {
        "id": "YEcpAR-tRKQG"
      },
      "execution_count": null,
      "outputs": []
    },
    {
      "cell_type": "code",
      "source": [],
      "metadata": {
        "id": "ztXQY2KzRKNv"
      },
      "execution_count": null,
      "outputs": []
    },
    {
      "cell_type": "code",
      "source": [
        "x = 2.0 # float\n",
        "x = 1 # int\n",
        "x = True # boolean\n",
        "x = 'True' # string always has ' or \""
      ],
      "metadata": {
        "id": "KKwQRPi8RKKn"
      },
      "execution_count": null,
      "outputs": []
    },
    {
      "cell_type": "code",
      "source": [],
      "metadata": {
        "id": "O36yl51rRKHB"
      },
      "execution_count": null,
      "outputs": []
    },
    {
      "cell_type": "code",
      "source": [],
      "metadata": {
        "id": "IIrDH17yRKFH"
      },
      "execution_count": null,
      "outputs": []
    },
    {
      "cell_type": "code",
      "source": [],
      "metadata": {
        "id": "emGjXYUuRKCz"
      },
      "execution_count": null,
      "outputs": []
    }
  ],
  "metadata": {
    "kernelspec": {
      "display_name": "Python 3",
      "language": "python",
      "name": "python3"
    },
    "language_info": {
      "codemirror_mode": {
        "name": "ipython",
        "version": 3
      },
      "file_extension": ".py",
      "mimetype": "text/x-python",
      "name": "python",
      "nbconvert_exporter": "python",
      "pygments_lexer": "ipython3",
      "version": "3.8.5"
    },
    "colab": {
      "provenance": [],
      "collapsed_sections": [
        "EU8NIMxbMTs7",
        "3j8SWjWlMTtH",
        "fsMrtH0jMTtL",
        "5fHASFHvMTtM",
        "Ir8IzrrVMTtN",
        "fq-gtp20MTtO",
        "O7VTpz4bMTtR",
        "g7M0F3xIMTtS",
        "cniBE-qFMTtU"
      ],
      "include_colab_link": true
    }
  },
  "nbformat": 4,
  "nbformat_minor": 0
}