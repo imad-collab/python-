{
  "cells": [
    {
      "cell_type": "markdown",
      "metadata": {
        "id": "view-in-github",
        "colab_type": "text"
      },
      "source": [
        "<a href=\"https://colab.research.google.com/github/imad-collab/imad/blob/main/5_Python.ipynb\" target=\"_parent\"><img src=\"https://colab.research.google.com/assets/colab-badge.svg\" alt=\"Open In Colab\"/></a>"
      ]
    },
    {
      "cell_type": "markdown",
      "metadata": {
        "id": "Zu8Act8x--lr"
      },
      "source": [
        "# Series"
      ]
    },
    {
      "cell_type": "code",
      "execution_count": null,
      "metadata": {
        "id": "a3ao1Gl0--ls"
      },
      "outputs": [],
      "source": [
        "s=['a','b','c','d']\n",
        "s"
      ]
    },
    {
      "cell_type": "code",
      "execution_count": null,
      "metadata": {
        "id": "N3yTQT8s--lt"
      },
      "outputs": [],
      "source": [
        "pd.Series(s)"
      ]
    },
    {
      "cell_type": "code",
      "execution_count": null,
      "metadata": {
        "id": "7vSy8YhK--lu"
      },
      "outputs": [],
      "source": [
        "snacks = ['pizza','burger','shawarma','franky','sandwitch']\n",
        "snacks"
      ]
    },
    {
      "cell_type": "code",
      "execution_count": null,
      "metadata": {
        "id": "iRpjpqIj--lu"
      },
      "outputs": [],
      "source": [
        "pd.Series(snacks)"
      ]
    },
    {
      "cell_type": "code",
      "execution_count": null,
      "metadata": {
        "id": "AIL0x4xK--lu"
      },
      "outputs": [],
      "source": [
        "days=['Monday','Tuesday','Wednesday','Thursday','Firday']\n",
        "days"
      ]
    },
    {
      "cell_type": "code",
      "execution_count": null,
      "metadata": {
        "id": "ZJO3xIsE--lu"
      },
      "outputs": [],
      "source": [
        "pd.Series(data=snacks,index=days)"
      ]
    },
    {
      "cell_type": "code",
      "execution_count": null,
      "metadata": {
        "id": "UnjczgHF--lv"
      },
      "outputs": [],
      "source": [
        "a=np.array([10,20,30,40,50])\n",
        "a"
      ]
    },
    {
      "cell_type": "code",
      "execution_count": null,
      "metadata": {
        "id": "i3Z51vEK--lv"
      },
      "outputs": [],
      "source": [
        "print(a)"
      ]
    },
    {
      "cell_type": "code",
      "execution_count": null,
      "metadata": {
        "id": "W-6R0aQd--lv"
      },
      "outputs": [],
      "source": [
        "pd.Series(a)"
      ]
    },
    {
      "cell_type": "code",
      "execution_count": null,
      "metadata": {
        "id": "C6Gtn0FT--lv"
      },
      "outputs": [],
      "source": [
        "dict={'a':10,'b':20,'c':30,'d':40}\n",
        "dict"
      ]
    },
    {
      "cell_type": "code",
      "execution_count": null,
      "metadata": {
        "id": "FXbFAf8q--lw"
      },
      "outputs": [],
      "source": [
        "pd.Series(dict)"
      ]
    },
    {
      "cell_type": "markdown",
      "metadata": {
        "id": "7Hweq59d--lw"
      },
      "source": [
        "# Numpy"
      ]
    },
    {
      "cell_type": "code",
      "execution_count": null,
      "metadata": {
        "id": "eJU0iAg5--lw"
      },
      "outputs": [],
      "source": [
        "a=np.array([(1,2,3,4),(4,5,6,7)])\n",
        "a"
      ]
    },
    {
      "cell_type": "code",
      "execution_count": null,
      "metadata": {
        "id": "uB_pompm--lw"
      },
      "outputs": [],
      "source": [
        "print(a.size)"
      ]
    },
    {
      "cell_type": "code",
      "execution_count": null,
      "metadata": {
        "id": "9aAihkCK--lw"
      },
      "outputs": [],
      "source": [
        "print(a.shape)"
      ]
    },
    {
      "cell_type": "code",
      "execution_count": null,
      "metadata": {
        "id": "A-x7kM6H--lw"
      },
      "outputs": [],
      "source": [
        "a= a.reshape(4,2)"
      ]
    },
    {
      "cell_type": "code",
      "execution_count": null,
      "metadata": {
        "id": "Pp2UPg9E--lw"
      },
      "outputs": [],
      "source": [
        "print(a)"
      ]
    },
    {
      "cell_type": "code",
      "execution_count": null,
      "metadata": {
        "id": "XWcS5CR4--lx"
      },
      "outputs": [],
      "source": [
        "a=np.array([(1,2,3,4),(4,5,6,7)])"
      ]
    },
    {
      "cell_type": "code",
      "execution_count": null,
      "metadata": {
        "id": "yMhw3k5Q--lx"
      },
      "outputs": [],
      "source": [
        "a[0,2] ## Accessing values"
      ]
    },
    {
      "cell_type": "code",
      "execution_count": null,
      "metadata": {
        "id": "ZJg_V9gD--lx"
      },
      "outputs": [],
      "source": [
        "a=np.array([1,2,3,4])\n",
        "print(a)"
      ]
    },
    {
      "cell_type": "code",
      "execution_count": null,
      "metadata": {
        "id": "0xK-iOF6--lx"
      },
      "outputs": [],
      "source": [
        "a.min()"
      ]
    },
    {
      "cell_type": "code",
      "execution_count": null,
      "metadata": {
        "id": "HdofFm38--lx"
      },
      "outputs": [],
      "source": [
        "a.max()"
      ]
    },
    {
      "cell_type": "code",
      "execution_count": null,
      "metadata": {
        "id": "q-FSVUdl--ly"
      },
      "outputs": [],
      "source": [
        "a.sum()"
      ]
    },
    {
      "cell_type": "code",
      "execution_count": null,
      "metadata": {
        "id": "MhwEfyQO--ly"
      },
      "outputs": [],
      "source": [
        "a=np.array([(1,2,3,4),(4,5,6,7)])\n",
        "a"
      ]
    },
    {
      "cell_type": "code",
      "execution_count": null,
      "metadata": {
        "id": "GuCrCUzw--ly"
      },
      "outputs": [],
      "source": [
        "a.sum(axis=0)"
      ]
    },
    {
      "cell_type": "code",
      "execution_count": null,
      "metadata": {
        "id": "rnTB39TA--ly"
      },
      "outputs": [],
      "source": [
        "a.sum(axis=1)"
      ]
    },
    {
      "cell_type": "markdown",
      "metadata": {
        "id": "kKRSoOsY--ly"
      },
      "source": [
        "## Duplicates"
      ]
    },
    {
      "cell_type": "code",
      "execution_count": null,
      "metadata": {
        "id": "zmq6ScRN--ly"
      },
      "outputs": [],
      "source": [
        "dup=DataFrame({'col1':['A','A','B','B','B'],'col2':[2,2,2,3,3]})"
      ]
    },
    {
      "cell_type": "code",
      "execution_count": null,
      "metadata": {
        "id": "A_G6AmMU--lz"
      },
      "outputs": [],
      "source": [
        "dup"
      ]
    },
    {
      "cell_type": "code",
      "execution_count": null,
      "metadata": {
        "id": "9IMfh2ud--lz"
      },
      "outputs": [],
      "source": [
        "dup.duplicated()"
      ]
    },
    {
      "cell_type": "code",
      "execution_count": null,
      "metadata": {
        "id": "TVvSd4fz--lz"
      },
      "outputs": [],
      "source": [
        "dup.drop_duplicates()"
      ]
    },
    {
      "cell_type": "markdown",
      "metadata": {
        "id": "YDMFU6V9--lz"
      },
      "source": [
        "## Group By"
      ]
    },
    {
      "cell_type": "code",
      "execution_count": null,
      "metadata": {
        "id": "oa1sOCsp--lz"
      },
      "outputs": [],
      "source": [
        "df = pd.read_csv('Salaries.csv')"
      ]
    },
    {
      "cell_type": "code",
      "execution_count": null,
      "metadata": {
        "id": "xTLQ1YE6--lz"
      },
      "outputs": [],
      "source": [
        "df"
      ]
    },
    {
      "cell_type": "code",
      "execution_count": null,
      "metadata": {
        "id": "TJ79smE_--lz"
      },
      "outputs": [],
      "source": [
        "df.columns"
      ]
    },
    {
      "cell_type": "code",
      "execution_count": null,
      "metadata": {
        "id": "eV6RnSjw--l0"
      },
      "outputs": [],
      "source": [
        "df.head()"
      ]
    },
    {
      "cell_type": "code",
      "execution_count": null,
      "metadata": {
        "id": "SEzvibCX--l0"
      },
      "outputs": [],
      "source": [
        "df.dtypes"
      ]
    },
    {
      "cell_type": "code",
      "execution_count": null,
      "metadata": {
        "id": "9RBMnJSk--l0"
      },
      "outputs": [],
      "source": [
        "df.tail()"
      ]
    },
    {
      "cell_type": "code",
      "execution_count": null,
      "metadata": {
        "id": "Tl9W149Z--l1"
      },
      "outputs": [],
      "source": [
        "df.describe()"
      ]
    },
    {
      "cell_type": "code",
      "execution_count": null,
      "metadata": {
        "id": "AVBxyLo1--l1"
      },
      "outputs": [],
      "source": [
        "df.max()"
      ]
    },
    {
      "cell_type": "code",
      "execution_count": null,
      "metadata": {
        "id": "3aZ-U16o--l1"
      },
      "outputs": [],
      "source": [
        "df.min()"
      ]
    },
    {
      "cell_type": "code",
      "execution_count": null,
      "metadata": {
        "id": "ykeZSAeV--l1"
      },
      "outputs": [],
      "source": [
        "df.mean()"
      ]
    },
    {
      "cell_type": "code",
      "execution_count": null,
      "metadata": {
        "id": "_jTLT9PS--l1"
      },
      "outputs": [],
      "source": [
        "df.discipline.value_counts()"
      ]
    },
    {
      "cell_type": "code",
      "execution_count": null,
      "metadata": {
        "id": "tHZStdii--l1"
      },
      "outputs": [],
      "source": [
        "df.salary"
      ]
    },
    {
      "cell_type": "code",
      "execution_count": null,
      "metadata": {
        "id": "DOs11cp7--l1"
      },
      "outputs": [],
      "source": [
        "df.phd.describe()"
      ]
    },
    {
      "cell_type": "code",
      "execution_count": null,
      "metadata": {
        "id": "dXLxYPXZ--l1"
      },
      "outputs": [],
      "source": [
        "df.phd.count()"
      ]
    },
    {
      "cell_type": "code",
      "execution_count": null,
      "metadata": {
        "id": "BQP2Vyhk--l2"
      },
      "outputs": [],
      "source": [
        "df.phd.mean()"
      ]
    },
    {
      "cell_type": "code",
      "execution_count": null,
      "metadata": {
        "id": "oa2x0Cx1--l2"
      },
      "outputs": [],
      "source": [
        "df.groupby(['rank']).mean()"
      ]
    },
    {
      "cell_type": "code",
      "execution_count": null,
      "metadata": {
        "id": "wKrdDP5t--l2"
      },
      "outputs": [],
      "source": [
        "df.groupby('rank')[['salary','phd']].mean()"
      ]
    },
    {
      "cell_type": "code",
      "execution_count": null,
      "metadata": {
        "id": "n05AGYaY--l2"
      },
      "outputs": [],
      "source": [
        "df[df.salary>120000]"
      ]
    },
    {
      "cell_type": "code",
      "execution_count": null,
      "metadata": {
        "id": "afEam8tM--l2"
      },
      "outputs": [],
      "source": [
        "df.iloc[1:4, 0:3]"
      ]
    },
    {
      "cell_type": "code",
      "execution_count": null,
      "metadata": {
        "id": "onl0qHGy--l2"
      },
      "outputs": [],
      "source": [
        "df.iloc[0:10,0:3]"
      ]
    },
    {
      "cell_type": "code",
      "execution_count": null,
      "metadata": {
        "id": "RVSaSF0R--l2"
      },
      "outputs": [],
      "source": [
        "df.iloc[0:2,]"
      ]
    },
    {
      "cell_type": "code",
      "execution_count": null,
      "metadata": {
        "id": "1IHyauo4--l2"
      },
      "outputs": [],
      "source": [
        "df.iloc[:,4]"
      ]
    },
    {
      "cell_type": "markdown",
      "metadata": {
        "id": "OXj4I6Na--l3"
      },
      "source": [
        "## Distribution plots"
      ]
    },
    {
      "cell_type": "code",
      "execution_count": null,
      "metadata": {
        "id": "HAI0JNUj--l3"
      },
      "outputs": [],
      "source": [
        "import warnings\n",
        "warnings.filterwarnings('ignore')"
      ]
    },
    {
      "cell_type": "code",
      "execution_count": null,
      "metadata": {
        "id": "ltK2wL57--l3"
      },
      "outputs": [],
      "source": [
        "import pandas as pd\n",
        "import numpy as np\n",
        "import matplotlib.pyplot as plt\n",
        "import seaborn as sns"
      ]
    },
    {
      "cell_type": "code",
      "execution_count": null,
      "metadata": {
        "id": "DpdptZ9s--l3"
      },
      "outputs": [],
      "source": [
        "df1 = pd.read_csv('Universities.csv')"
      ]
    },
    {
      "cell_type": "code",
      "execution_count": null,
      "metadata": {
        "id": "iYYW9WYL--l3"
      },
      "outputs": [],
      "source": [
        "plt.hist(df1['Accept'])"
      ]
    },
    {
      "cell_type": "code",
      "execution_count": null,
      "metadata": {
        "id": "knnm1gk---l3"
      },
      "outputs": [],
      "source": [
        "sns.distplot(df1['Top10'])"
      ]
    },
    {
      "cell_type": "code",
      "execution_count": null,
      "metadata": {
        "id": "v92G4N1U--l3"
      },
      "outputs": [],
      "source": [
        "sns.scatterplot(x='SAT',y='Accept',data=df1)"
      ]
    },
    {
      "cell_type": "code",
      "execution_count": null,
      "metadata": {
        "id": "3ttqQT3K--l4"
      },
      "outputs": [],
      "source": [
        "sns.pairplot(df1)"
      ]
    },
    {
      "cell_type": "code",
      "execution_count": null,
      "metadata": {
        "id": "J34u8aW6--l4"
      },
      "outputs": [],
      "source": [
        "df1.skew()"
      ]
    },
    {
      "cell_type": "code",
      "execution_count": null,
      "metadata": {
        "id": "wCAZtJXM--l4"
      },
      "outputs": [],
      "source": [
        "df1.kurt()"
      ]
    },
    {
      "cell_type": "code",
      "execution_count": null,
      "metadata": {
        "id": "gHZNeZ-K--l4"
      },
      "outputs": [],
      "source": [
        "plt.boxplot(df1[\"SAT\"],vert = True)"
      ]
    },
    {
      "cell_type": "code",
      "execution_count": null,
      "metadata": {
        "id": "8YwYO6QN--l4"
      },
      "outputs": [],
      "source": []
    }
  ],
  "metadata": {
    "kernelspec": {
      "display_name": "Python 3",
      "language": "python",
      "name": "python3"
    },
    "language_info": {
      "codemirror_mode": {
        "name": "ipython",
        "version": 3
      },
      "file_extension": ".py",
      "mimetype": "text/x-python",
      "name": "python",
      "nbconvert_exporter": "python",
      "pygments_lexer": "ipython3",
      "version": "3.8.5"
    },
    "colab": {
      "provenance": [],
      "include_colab_link": true
    }
  },
  "nbformat": 4,
  "nbformat_minor": 0
}