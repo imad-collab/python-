{
  "cells": [
    {
      "cell_type": "markdown",
      "metadata": {
        "id": "view-in-github",
        "colab_type": "text"
      },
      "source": [
        "<a href=\"https://colab.research.google.com/github/imad-collab/imad/blob/main/dataframes.ipynb\" target=\"_parent\"><img src=\"https://colab.research.google.com/assets/colab-badge.svg\" alt=\"Open In Colab\"/></a>"
      ]
    },
    {
      "cell_type": "markdown",
      "metadata": {
        "id": "48hzFczLMUHs"
      },
      "source": [
        "## Dataframe"
      ]
    },
    {
      "cell_type": "code",
      "execution_count": null,
      "metadata": {
        "id": "1P4faS7FMUHs"
      },
      "outputs": [],
      "source": [
        "import pandas as pd\n",
        "import numpy as np\n",
        "from pandas import DataFrame,Series"
      ]
    },
    {
      "cell_type": "code",
      "execution_count": null,
      "metadata": {
        "id": "j-V40p2SMUHs"
      },
      "outputs": [],
      "source": [
        "import webbrowser"
      ]
    },
    {
      "cell_type": "code",
      "execution_count": null,
      "metadata": {
        "id": "nsFBR0puMUHs"
      },
      "outputs": [],
      "source": [
        "website = 'https://pandas.pydata.org/pandas-docs/stable/reference/api/pandas.DataFrame.html'"
      ]
    },
    {
      "cell_type": "code",
      "execution_count": null,
      "metadata": {
        "id": "yLMD8sU5MUHs"
      },
      "outputs": [],
      "source": [
        "webbrowser.open(website)"
      ]
    },
    {
      "cell_type": "code",
      "execution_count": null,
      "metadata": {
        "id": "pk8X5pvEMUHt"
      },
      "outputs": [],
      "source": [
        "df= pd.read_clipboard()"
      ]
    },
    {
      "cell_type": "code",
      "execution_count": null,
      "metadata": {
        "id": "9dcZ3RvHMUHt"
      },
      "outputs": [],
      "source": [
        "df"
      ]
    },
    {
      "cell_type": "markdown",
      "metadata": {
        "id": "crBq3C-cMUHt"
      },
      "source": [
        "## Creating dataframes using numpy and dictionaries"
      ]
    },
    {
      "cell_type": "code",
      "execution_count": null,
      "metadata": {
        "id": "TD1PkEf_MUHt"
      },
      "outputs": [],
      "source": [
        "x=np.array([[1,2,3],[4,5,6]])\n",
        "x"
      ]
    },
    {
      "cell_type": "code",
      "execution_count": null,
      "metadata": {
        "id": "YwntMellMUHt"
      },
      "outputs": [],
      "source": [
        "dict1=DataFrame({'col1':[1,2,3],\"col2\":[4,5,6]})\n",
        "dict1"
      ]
    },
    {
      "cell_type": "code",
      "execution_count": null,
      "metadata": {
        "id": "VQv0iDr2MUHt"
      },
      "outputs": [],
      "source": [
        "## Read a csv file\n",
        "df1 = pd.read_csv('Universities.csv')"
      ]
    },
    {
      "cell_type": "code",
      "execution_count": null,
      "metadata": {
        "id": "571zExMeMUHu"
      },
      "outputs": [],
      "source": [
        "df1"
      ]
    },
    {
      "cell_type": "code",
      "execution_count": null,
      "metadata": {
        "id": "iv1QlGe6MUHu"
      },
      "outputs": [],
      "source": [
        "type(df1)"
      ]
    },
    {
      "cell_type": "code",
      "execution_count": null,
      "metadata": {
        "id": "rHhcRvFoMUHu"
      },
      "outputs": [],
      "source": [
        "df1 = pd.read_csv('Universities.csv',nrows = 2)\n",
        "df1"
      ]
    },
    {
      "cell_type": "code",
      "execution_count": null,
      "metadata": {
        "id": "G6cUH7O9MUHu"
      },
      "outputs": [],
      "source": [
        "df1 = pd.read_csv('Universities.csv',usecols=[1,3])\n",
        "df1"
      ]
    },
    {
      "cell_type": "code",
      "execution_count": null,
      "metadata": {
        "id": "fZjorYLCMUHu"
      },
      "outputs": [],
      "source": [
        "df1.columns"
      ]
    },
    {
      "cell_type": "code",
      "execution_count": null,
      "metadata": {
        "id": "oNypF68LMUHu"
      },
      "outputs": [],
      "source": [
        "df1[['SAT','Accept']]"
      ]
    },
    {
      "cell_type": "code",
      "execution_count": null,
      "metadata": {
        "id": "sqn8myC9MUHv"
      },
      "outputs": [],
      "source": [
        "df1.head()"
      ]
    },
    {
      "cell_type": "code",
      "execution_count": null,
      "metadata": {
        "id": "p7zQOq6RMUHv"
      },
      "outputs": [],
      "source": [
        "df1.head(10)"
      ]
    },
    {
      "cell_type": "code",
      "execution_count": null,
      "metadata": {
        "id": "iP3UYtuYMUHv"
      },
      "outputs": [],
      "source": [
        "df1.tail()"
      ]
    },
    {
      "cell_type": "code",
      "execution_count": null,
      "metadata": {
        "id": "_TQYbWm2MUHv"
      },
      "outputs": [],
      "source": [
        "df1.tail(10)"
      ]
    },
    {
      "cell_type": "code",
      "execution_count": null,
      "metadata": {
        "id": "L8I08x6yMUHv"
      },
      "outputs": [],
      "source": [
        "df1.head()"
      ]
    },
    {
      "cell_type": "code",
      "execution_count": null,
      "metadata": {
        "id": "dQYGCNpiMUHv"
      },
      "outputs": [],
      "source": [
        "df1.iloc[2]"
      ]
    },
    {
      "cell_type": "code",
      "execution_count": null,
      "metadata": {
        "id": "H27OJEH-MUHv"
      },
      "outputs": [],
      "source": [
        "df1.iloc[3:6]"
      ]
    },
    {
      "cell_type": "code",
      "execution_count": null,
      "metadata": {
        "id": "0zqZ-wJsMUHw"
      },
      "outputs": [],
      "source": [
        "df2 = pd.read_csv('Universities.csv')\n",
        "df2.head()"
      ]
    },
    {
      "cell_type": "code",
      "execution_count": null,
      "metadata": {
        "id": "tD1WzojRMUHw"
      },
      "outputs": [],
      "source": [
        "df2 = pd.read_csv('Universities.csv',index_col = 'Univ')\n",
        "df2"
      ]
    },
    {
      "cell_type": "code",
      "execution_count": null,
      "metadata": {
        "id": "d3xWsV8uMUHw"
      },
      "outputs": [],
      "source": [
        "df2.loc['Yale']"
      ]
    },
    {
      "cell_type": "code",
      "execution_count": null,
      "metadata": {
        "id": "ydQ12MnPMUHw"
      },
      "outputs": [],
      "source": [
        "df2.iloc[2]"
      ]
    },
    {
      "cell_type": "code",
      "execution_count": null,
      "metadata": {
        "id": "nkQUCITGMUHw"
      },
      "outputs": [],
      "source": [
        "df2.loc[['UVA','Yale']]"
      ]
    },
    {
      "cell_type": "code",
      "execution_count": null,
      "metadata": {
        "id": "o_P-WAJZMUHw"
      },
      "outputs": [],
      "source": [
        "df2.loc['UVA':'Yale']"
      ]
    },
    {
      "cell_type": "code",
      "execution_count": null,
      "metadata": {
        "id": "i5rhTadvMUHw"
      },
      "outputs": [],
      "source": [
        "df2.shape"
      ]
    },
    {
      "cell_type": "code",
      "execution_count": null,
      "metadata": {
        "id": "ogfBD5-cMUHx"
      },
      "outputs": [],
      "source": [
        "x= df2.drop('Yale')\n",
        "x"
      ]
    },
    {
      "cell_type": "code",
      "execution_count": null,
      "metadata": {
        "id": "6hYZAislMUHx"
      },
      "outputs": [],
      "source": [
        "x.shape"
      ]
    },
    {
      "cell_type": "code",
      "execution_count": null,
      "metadata": {
        "id": "0Hl9qtxhMUHx"
      },
      "outputs": [],
      "source": [
        "y = df2.drop('Top10', axis =1)\n",
        "y"
      ]
    },
    {
      "cell_type": "code",
      "execution_count": null,
      "metadata": {
        "id": "HwFtSkWXMUHx"
      },
      "outputs": [],
      "source": [
        "y.shape"
      ]
    },
    {
      "cell_type": "code",
      "execution_count": null,
      "metadata": {
        "id": "8qn9zsYVMUHx"
      },
      "outputs": [],
      "source": [
        "df2.head()"
      ]
    },
    {
      "cell_type": "code",
      "execution_count": null,
      "metadata": {
        "id": "lXDpmuvtMUHx"
      },
      "outputs": [],
      "source": [
        "df2.describe()"
      ]
    },
    {
      "cell_type": "markdown",
      "metadata": {
        "id": "Hsrqdrs7MUHx"
      },
      "source": [
        "## Handling with null values"
      ]
    },
    {
      "cell_type": "code",
      "execution_count": null,
      "metadata": {
        "id": "VrpNzeukMUHy"
      },
      "outputs": [],
      "source": [
        "dframe = DataFrame([[1,2,3],[np.nan,5,6],[7,np.nan,9],[np.nan,np.nan,np.nan]])"
      ]
    },
    {
      "cell_type": "code",
      "execution_count": null,
      "metadata": {
        "id": "uIxng9v_MUHy"
      },
      "outputs": [],
      "source": [
        "dframe"
      ]
    },
    {
      "cell_type": "code",
      "execution_count": null,
      "metadata": {
        "id": "mZb6DcYQMUHy"
      },
      "outputs": [],
      "source": [
        "new_frame= dframe.dropna() # Drop the rows having na \n",
        "new_frame"
      ]
    },
    {
      "cell_type": "code",
      "execution_count": null,
      "metadata": {
        "id": "LX5Mls-dMUHy"
      },
      "outputs": [],
      "source": [
        "new_frame=dframe.dropna(how='all')  # Drop the rows having na's in all the rows\n",
        "new_frame"
      ]
    },
    {
      "cell_type": "code",
      "execution_count": null,
      "metadata": {
        "id": "0sw67-yLMUHy"
      },
      "outputs": [],
      "source": [
        "new_frame=dframe.dropna(axis = 1)  # Drop the Columns having na's in all the columns\n",
        "new_frame"
      ]
    },
    {
      "cell_type": "code",
      "execution_count": null,
      "metadata": {
        "id": "zSIE-AbnMUHy"
      },
      "outputs": [],
      "source": [
        "dframe"
      ]
    },
    {
      "cell_type": "code",
      "execution_count": null,
      "metadata": {
        "id": "8xwk2t_vMUHy"
      },
      "outputs": [],
      "source": [
        "dframe.dropna(thresh = 2) # Drop the rows not having  atleast 2 values"
      ]
    },
    {
      "cell_type": "code",
      "execution_count": null,
      "metadata": {
        "id": "TtKzwinZMUHz"
      },
      "outputs": [],
      "source": [
        "dframe.fillna(1)"
      ]
    }
  ],
  "metadata": {
    "kernelspec": {
      "display_name": "Python 3",
      "language": "python",
      "name": "python3"
    },
    "language_info": {
      "codemirror_mode": {
        "name": "ipython",
        "version": 3
      },
      "file_extension": ".py",
      "mimetype": "text/x-python",
      "name": "python",
      "nbconvert_exporter": "python",
      "pygments_lexer": "ipython3",
      "version": "3.8.5"
    },
    "colab": {
      "provenance": [],
      "collapsed_sections": [
        "5s6KZmqpMUHj",
        "48hzFczLMUHs",
        "crBq3C-cMUHt",
        "Hsrqdrs7MUHx"
      ],
      "include_colab_link": true
    }
  },
  "nbformat": 4,
  "nbformat_minor": 0
}